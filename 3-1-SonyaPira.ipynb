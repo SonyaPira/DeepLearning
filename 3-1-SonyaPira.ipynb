{
 "cells": [
  {
   "cell_type": "markdown",
   "metadata": {},
   "source": [
    "<center><div style=\"direction:rtl;font-family:B Lotus, B Nazanin, Tahoma\">به نام خدا</div></center>\n",
    "<h1><center><div style=\"direction:rtl;font-family:B Lotus, B Nazanin, Tahoma\">مقدمه ای بر شبکه‌های عصبی کانولوشنالی<br>Convolutionl Neural Networks - CNN</div></center></h1>"
   ]
  },
  {
   "cell_type": "markdown",
   "metadata": {},
   "source": [
    "<div style=\"direction:rtl;text-align:right;font-family:Tahoma\">\n",
    "اگر روی گوگل کولب اجرا میکنید این خطوط را از حالت کامنت خارج نمائید.\n",
    "</div>"
   ]
  },
  {
   "cell_type": "code",
   "execution_count": null,
   "metadata": {},
   "outputs": [],
   "source": [
    "#!wget https://raw.githubusercontent.com/Alireza-Akhavan/SRU-deeplearning-workshop/master/dataset.py\n",
    "#!mkdir dataset\n",
    "#!wget https://github.com/Alireza-Akhavan/SRU-deeplearning-workshop/raw/master/dataset/Data_hoda_full.mat -P dataset"
   ]
  },
  {
   "cell_type": "markdown",
   "metadata": {},
   "source": [
    "## <div style=\"direction:rtl;text-align:right;font-family:B Lotus, B Nazanin, Tahoma\">کد یک شبکه کانولوشنالی و آموزش آن از ابتدا تا انتها بر روی مجموعه داده هدی</div>\n"
   ]
  },
  {
   "cell_type": "code",
   "execution_count": null,
   "metadata": {},
   "outputs": [],
   "source": [
    "# 1. Import libraries and modules\n",
    "from tensorflow import keras\n",
    "from keras import layers\n",
    "from keras.models import Sequential\n",
    "from keras.layers import Dense, Dropout\n",
    "import numpy as np\n",
    "from dataset import load_hoda\n",
    "import matplotlib.pyplot as plt\n",
    "from keras.callbacks import TensorBoard\n",
    "import datetime"
   ]
  },
  {
   "cell_type": "code",
   "execution_count": 4,
   "metadata": {},
   "outputs": [],
   "source": [
    "# Load pre-shuffled HODA data into train and test sets\n",
    "X_train, y_train, X_test, y_test = load_hoda(\n",
    "                                            training_sample_size=3500,\n",
    "                                            test_sample_size=400,size=28)\n",
    "\n",
    "# Preprocess input data\n",
    "'''normalize our data values to the range [0, 1]'''\n",
    "X_train = X_train.astype('float32')\n",
    "X_test = X_test.astype('float32')\n",
    "X_train /= 255\n",
    "X_test /= 255\n",
    "\n",
    "# Reshape to original image shape (n x 784)  ==> (n x 28 x 28 x 1)\n",
    "X_train = X_train.reshape(-1,28,28,1)\n",
    "X_test = X_test.reshape(-1,28,28,1)\n"
   ]
  },
  {
   "cell_type": "code",
   "execution_count": 14,
   "metadata": {},
   "outputs": [
    {
     "ename": "TypeError",
     "evalue": "unhashable type: 'numpy.ndarray'",
     "output_type": "error",
     "traceback": [
      "\u001b[1;31m---------------------------------------------------------------------------\u001b[0m",
      "\u001b[1;31mTypeError\u001b[0m                                 Traceback (most recent call last)",
      "Cell \u001b[1;32mIn[14], line 1\u001b[0m\n\u001b[1;32m----> 1\u001b[0m \u001b[38;5;28;43mset\u001b[39;49m\u001b[43m(\u001b[49m\u001b[43m \u001b[49m\u001b[43my_train\u001b[49m\u001b[43m)\u001b[49m\n",
      "\u001b[1;31mTypeError\u001b[0m: unhashable type: 'numpy.ndarray'"
     ]
    }
   ],
   "source": [
    "   set( y_train)"
   ]
  },
  {
   "cell_type": "code",
   "execution_count": 12,
   "metadata": {},
   "outputs": [],
   "source": [
    "# 4. Preprocess class labels\n",
    "y_train = keras.utils.to_categorical(y_train)\n",
    "y_test = keras.utils.to_categorical(y_test)"
   ]
  },
  {
   "cell_type": "code",
   "execution_count": 16,
   "metadata": {},
   "outputs": [
    {
     "data": {
      "text/plain": [
       "array([0., 0., 0., 0., 0., 1., 0., 0., 0., 0.], dtype=float32)"
      ]
     },
     "execution_count": 16,
     "metadata": {},
     "output_type": "execute_result"
    }
   ],
   "source": [
    "y_train[1]"
   ]
  },
  {
   "cell_type": "code",
   "execution_count": 17,
   "metadata": {},
   "outputs": [],
   "source": [
    "# 5. Define model architecture\n",
    "model = Sequential()\n",
    "model.add(layers.Conv2D(32, (3, 3), activation='relu',\n",
    "                        input_shape=(28, 28, 1)))\n",
    "model.add(layers.MaxPooling2D((2, 2)))\n",
    "model.add(layers.Conv2D(64, (3, 3), activation='relu'))\n",
    "model.add(layers.MaxPooling2D((2, 2)))\n",
    "model.add(layers.Conv2D(64, (3, 3), activation='relu'))\n",
    "model.add(layers.Flatten())\n",
    "model.add(layers.Dense(64, activation='relu'))\n",
    "model.add(Dropout(0.5))\n",
    "model.add(layers.Dense(10, activation='softmax'))"
   ]
  },
  {
   "cell_type": "code",
   "execution_count": 18,
   "metadata": {},
   "outputs": [],
   "source": [
    "# 6. Compile model\n",
    "model.compile(loss='categorical_crossentropy',\n",
    "              optimizer='adam',\n",
    "              metrics=['accuracy'])"
   ]
  },
  {
   "cell_type": "code",
   "execution_count": null,
   "metadata": {},
   "outputs": [],
   "source": []
  },
  {
   "cell_type": "code",
   "execution_count": 20,
   "metadata": {},
   "outputs": [
    {
     "name": "stdout",
     "output_type": "stream",
     "text": [
      "logDir =  E:\\Data Since\\logs\\mlp3500\\20231107-212154\n",
      "Epoch 1/20\n",
      "11/11 [==============================] - 3s 269ms/step - loss: 0.3690 - accuracy: 0.8743 - val_loss: 0.2371 - val_accuracy: 0.9114\n",
      "Epoch 2/20\n",
      "11/11 [==============================] - 3s 246ms/step - loss: 0.3231 - accuracy: 0.8979 - val_loss: 0.2122 - val_accuracy: 0.9229\n",
      "Epoch 3/20\n",
      "11/11 [==============================] - 3s 247ms/step - loss: 0.2893 - accuracy: 0.9036 - val_loss: 0.1946 - val_accuracy: 0.9343\n",
      "Epoch 4/20\n",
      "11/11 [==============================] - 3s 245ms/step - loss: 0.2506 - accuracy: 0.9236 - val_loss: 0.1756 - val_accuracy: 0.9414\n",
      "Epoch 5/20\n",
      "11/11 [==============================] - 3s 273ms/step - loss: 0.2374 - accuracy: 0.9225 - val_loss: 0.1752 - val_accuracy: 0.9400\n",
      "Epoch 6/20\n",
      "11/11 [==============================] - 3s 240ms/step - loss: 0.2216 - accuracy: 0.9289 - val_loss: 0.1518 - val_accuracy: 0.9429\n",
      "Epoch 7/20\n",
      "11/11 [==============================] - 2s 231ms/step - loss: 0.2103 - accuracy: 0.9289 - val_loss: 0.1403 - val_accuracy: 0.9500\n",
      "Epoch 8/20\n",
      "11/11 [==============================] - 3s 244ms/step - loss: 0.1902 - accuracy: 0.9400 - val_loss: 0.1394 - val_accuracy: 0.9500\n",
      "Epoch 9/20\n",
      "11/11 [==============================] - 3s 257ms/step - loss: 0.1947 - accuracy: 0.9364 - val_loss: 0.1543 - val_accuracy: 0.9457\n",
      "Epoch 10/20\n",
      "11/11 [==============================] - 3s 258ms/step - loss: 0.1655 - accuracy: 0.9432 - val_loss: 0.1404 - val_accuracy: 0.9557\n",
      "Epoch 11/20\n",
      "11/11 [==============================] - 3s 248ms/step - loss: 0.1525 - accuracy: 0.9489 - val_loss: 0.1277 - val_accuracy: 0.9500\n",
      "Epoch 12/20\n",
      "11/11 [==============================] - 3s 242ms/step - loss: 0.1387 - accuracy: 0.9532 - val_loss: 0.1229 - val_accuracy: 0.9586\n",
      "Epoch 13/20\n",
      "11/11 [==============================] - 3s 263ms/step - loss: 0.1445 - accuracy: 0.9554 - val_loss: 0.1270 - val_accuracy: 0.9486\n",
      "Epoch 14/20\n",
      "11/11 [==============================] - 3s 249ms/step - loss: 0.1476 - accuracy: 0.9525 - val_loss: 0.1236 - val_accuracy: 0.9571\n",
      "Epoch 15/20\n",
      "11/11 [==============================] - 3s 243ms/step - loss: 0.1232 - accuracy: 0.9611 - val_loss: 0.1241 - val_accuracy: 0.9586\n",
      "Epoch 16/20\n",
      "11/11 [==============================] - 3s 271ms/step - loss: 0.1247 - accuracy: 0.9550 - val_loss: 0.1061 - val_accuracy: 0.9629\n",
      "Epoch 17/20\n",
      "11/11 [==============================] - 3s 250ms/step - loss: 0.1172 - accuracy: 0.9632 - val_loss: 0.1115 - val_accuracy: 0.9643\n",
      "Epoch 18/20\n",
      "11/11 [==============================] - 3s 261ms/step - loss: 0.1143 - accuracy: 0.9611 - val_loss: 0.1109 - val_accuracy: 0.9586\n",
      "Epoch 19/20\n",
      "11/11 [==============================] - 3s 249ms/step - loss: 0.1033 - accuracy: 0.9686 - val_loss: 0.1028 - val_accuracy: 0.9600\n",
      "Epoch 20/20\n",
      "11/11 [==============================] - 3s 270ms/step - loss: 0.0985 - accuracy: 0.9696 - val_loss: 0.1049 - val_accuracy: 0.9557\n"
     ]
    }
   ],
   "source": [
    "# 7. tensorboard_callbak and fit model on training data\n",
    "logDir = \"E:\\\\Data Since\\\\logs\\\\mlp3500\\\\\" + datetime.datetime.now().strftime(\"%Y%m%d-%H%M%S\")\n",
    "print(\"logDir = \",logDir)\n",
    "tensorboard_callbak = TensorBoard(logDir, update_freq = \"batch\", histogram_freq = 1)\n",
    "\n",
    "history = model.fit(X_train, y_train,\n",
    "       epochs=20, batch_size=256, validation_split=0.2, callbacks = tensorboard_callbak)\n"
   ]
  },
  {
   "cell_type": "code",
   "execution_count": 3,
   "metadata": {},
   "outputs": [
    {
     "data": {
      "image/png": "[encoded data removed]",
      "text/plain": [
       "<Figure size 432x288 with 1 Axes>"
      ]
     },
     "metadata": {
      "needs_background": "light"
     },
     "output_type": "display_data"
    },
    {
     "data": {
      "image/png": "[encoded data removed]",
      "text/plain": [
       "<Figure size 432x288 with 1 Axes>"
      ]
     },
     "metadata": {
      "needs_background": "light"
     },
     "output_type": "display_data"
    }
   ],
   "source": [
    "import matplotlib.pyplot as plt\n",
    "%matplotlib inline\n",
    "acc = history.history['accuracy']\n",
    "val_acc = history.history['val_accuracy']\n",
    "loss = history.history['loss']\n",
    "val_loss = history.history['val_loss']\n",
    "\n",
    "epochs = range(len(acc))\n",
    "\n",
    "plt.plot(epochs, acc, 'bo', label='Training acc')\n",
    "plt.plot(epochs, val_acc, 'b', label='Validation acc')\n",
    "plt.title('Training and validation accuracy')\n",
    "plt.legend()\n",
    "\n",
    "plt.figure()\n",
    "\n",
    "plt.plot(epochs, loss, 'bo', label='Training loss')\n",
    "plt.plot(epochs, val_loss, 'b', label='Validation loss')\n",
    "plt.title('Training and validation loss')\n",
    "plt.legend()\n",
    "\n",
    "plt.show()"
   ]
  }
 ],
 "metadata": {
  "anaconda-cloud": {},
  "kernelspec": {
   "display_name": "Python 3 (ipykernel)",
   "language": "python",
   "name": "python3"
  },
  "language_info": {
   "codemirror_mode": {
    "name": "ipython",
    "version": 3
   },
   "file_extension": ".py",
   "mimetype": "text/x-python",
   "name": "python",
   "nbconvert_exporter": "python",
   "pygments_lexer": "ipython3",
   "version": "3.10.9"
  },
  "nbpresent": {
   "slides": {
    "300ee14f-a043-486e-b274-7ff253907cd7": {
     "id": "300ee14f-a043-486e-b274-7ff253907cd7",
     "prev": "cb74e0bc-4513-4d13-b7f1-14c3078a7927",
     "regions": {
      "26dc3f39-a230-447c-af4c-f5e5b2fb7835": {
       "attrs": {
        "height": 0.8,
        "width": 0.8,
        "x": 0.1,
        "y": 0.1
       },
       "content": {
        "cell": "c58440a5-3f8f-4f37-9c79-6bf766209406",
        "part": "whole"
       },
       "id": "26dc3f39-a230-447c-af4c-f5e5b2fb7835"
      }
     }
    },
    "878aa53a-1444-4100-8f50-7a408191c579": {
     "id": "878aa53a-1444-4100-8f50-7a408191c579",
     "prev": null,
     "regions": {
      "a6c6843a-5ea6-4fbc-b890-3b4b8ae475b3": {
       "attrs": {
        "height": 0.8,
        "width": 0.8,
        "x": 0.1,
        "y": 0.1
       },
       "content": {
        "cell": "588ee1fa-64b5-453b-ade7-8e6b2515821c",
        "part": "whole"
       },
       "id": "a6c6843a-5ea6-4fbc-b890-3b4b8ae475b3"
      }
     }
    },
    "96ffe88e-7b50-43de-afdd-942e564f4e3e": {
     "id": "96ffe88e-7b50-43de-afdd-942e564f4e3e",
     "prev": "878aa53a-1444-4100-8f50-7a408191c579",
     "regions": {
      "b7e52e12-489a-468d-b10c-af2024fd2856": {
       "attrs": {
        "height": 0.8,
        "width": 0.8,
        "x": 0.1,
        "y": 0.1
       },
       "content": {
        "cell": "de829a92-1fb6-44ad-a2c6-fc1001e1f6e1",
        "part": "whole"
       },
       "id": "b7e52e12-489a-468d-b10c-af2024fd2856"
      }
     }
    },
    "cb74e0bc-4513-4d13-b7f1-14c3078a7927": {
     "id": "cb74e0bc-4513-4d13-b7f1-14c3078a7927",
     "prev": "96ffe88e-7b50-43de-afdd-942e564f4e3e",
     "regions": {
      "444878ee-68f3-4abb-acff-a7079b21e86d": {
       "attrs": {
        "height": 0.8,
        "width": 0.8,
        "x": 0.1,
        "y": 0.1
       },
       "content": {
        "cell": "25f3f538-1ee8-4d98-a6bb-14cbeb7a702d",
        "part": "whole"
       },
       "id": "444878ee-68f3-4abb-acff-a7079b21e86d"
      }
     }
    }
   },
   "themes": {}
  }
 },
 "nbformat": 4,
 "nbformat_minor": 4
}
